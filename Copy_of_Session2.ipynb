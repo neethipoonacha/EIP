{
  "nbformat": 4,
  "nbformat_minor": 0,
  "metadata": {
    "colab": {
      "name": "Copy of Session2.ipynb",
      "version": "0.3.2",
      "provenance": [],
      "collapsed_sections": [],
      "include_colab_link": true
    },
    "kernelspec": {
      "name": "python3",
      "display_name": "Python 3"
    },
    "accelerator": "GPU"
  },
  "cells": [
    {
      "cell_type": "markdown",
      "metadata": {
        "id": "view-in-github",
        "colab_type": "text"
      },
      "source": [
        "<a href=\"https://colab.research.google.com/github/neethipoonacha/EIP/blob/master/Copy_of_Session2.ipynb\" target=\"_parent\"><img src=\"https://colab.research.google.com/assets/colab-badge.svg\" alt=\"Open In Colab\"/></a>"
      ]
    },
    {
      "cell_type": "markdown",
      "metadata": {
        "id": "-nJ7YEw_vyjG",
        "colab_type": "text"
      },
      "source": [
        "# **Not an ideal network**"
      ]
    },
    {
      "cell_type": "markdown",
      "metadata": {
        "id": "UQWgfREQPOAJ",
        "colab_type": "text"
      },
      "source": [
        ""
      ]
    },
    {
      "cell_type": "markdown",
      "metadata": {
        "id": "GgEJSjjtOBao",
        "colab_type": "text"
      },
      "source": [
        "install keras \n",
        "pip -  package management system from anaconda\n"
      ]
    },
    {
      "cell_type": "code",
      "metadata": {
        "id": "kGWv5hBhv2jf",
        "colab_type": "code",
        "outputId": "1d63c654-3959-4e89-938b-da4063cdea5b",
        "colab": {
          "base_uri": "https://localhost:8080/",
          "height": 46
        }
      },
      "source": [
        "#install keras \n",
        "#pip -  package management system from anaconda\n",
        "\n",
        "# https://keras.io/\n",
        "!pip install -q keras\n",
        "import keras"
      ],
      "execution_count": 1,
      "outputs": [
        {
          "output_type": "stream",
          "text": [
            "Using TensorFlow backend.\n"
          ],
          "name": "stderr"
        }
      ]
    },
    {
      "cell_type": "markdown",
      "metadata": {
        "id": "ProGK4fEQbI4",
        "colab_type": "text"
      },
      "source": [
        "import libraries and modules\n",
        "import numpy - for reproducing results from the result set\n",
        "import Sequential - for feed forward of linear stack of neural network layers\n",
        "import Flatten - core layers of keras\n",
        "import Convolution2D - convolutional layers that will help  efficiently train on image data\n",
        "import np_utils - utitlities to transform data\n",
        "import mnist - libraries to import datasets"
      ]
    },
    {
      "cell_type": "code",
      "metadata": {
        "id": "wnMlDJQKv4VG",
        "colab_type": "code",
        "colab": {}
      },
      "source": [
        "import numpy as np\n",
        "\n",
        "from keras.models import Sequential\n",
        "from keras.layers import Flatten\n",
        "from keras.layers import Convolution2D\n",
        "from keras.utils import np_utils\n",
        "\n",
        "from keras.datasets import mnist"
      ],
      "execution_count": 0,
      "outputs": []
    },
    {
      "cell_type": "markdown",
      "metadata": {
        "id": "QiXNsucZRquq",
        "colab_type": "text"
      },
      "source": [
        "Load image data from MNIST data from  - https://s3.amazonaws.com/img-datasets/mnist.npz"
      ]
    },
    {
      "cell_type": "code",
      "metadata": {
        "id": "8CdSu2lMwB9s",
        "colab_type": "code",
        "outputId": "e1ca56fd-d1d8-4139-d390-8ce6e5996705",
        "colab": {
          "base_uri": "https://localhost:8080/",
          "height": 51
        }
      },
      "source": [
        "(X_train, y_train), (X_test, y_test) = mnist.load_data()"
      ],
      "execution_count": 4,
      "outputs": [
        {
          "output_type": "stream",
          "text": [
            "Downloading data from https://s3.amazonaws.com/img-datasets/mnist.npz\n",
            "11493376/11490434 [==============================] - 0s 0us/step\n"
          ],
          "name": "stdout"
        }
      ]
    },
    {
      "cell_type": "markdown",
      "metadata": {
        "id": "m-_1n7vuS-_y",
        "colab_type": "text"
      },
      "source": [
        "There are 6000 samples with 28*28 resolution each .The first sample is plotted here  "
      ]
    },
    {
      "cell_type": "code",
      "metadata": {
        "id": "tLaDf0-rwCmj",
        "colab_type": "code",
        "outputId": "70b8d5ff-abf4-408c-872a-b1f7e90a11c3",
        "colab": {
          "base_uri": "https://localhost:8080/",
          "height": 303
        }
      },
      "source": [
        "print (X_train.shape)\n",
        "from matplotlib import pyplot as plt\n",
        "%matplotlib inline\n",
        "plt.imshow(X_train[0])\n",
        "#plt.imshow(X_train[10])"
      ],
      "execution_count": 6,
      "outputs": [
        {
          "output_type": "stream",
          "text": [
            "(60000, 28, 28)\n"
          ],
          "name": "stdout"
        },
        {
          "output_type": "execute_result",
          "data": {
            "text/plain": [
              "<matplotlib.image.AxesImage at 0x7faa89f0b390>"
            ]
          },
          "metadata": {
            "tags": []
          },
          "execution_count": 6
        },
        {
          "output_type": "display_data",
          "data": {
            "image/png": "[encoded data removed]",
            "text/plain": [
              "<Figure size 432x288 with 1 Axes>"
            ]
          },
          "metadata": {
            "tags": []
          }
        }
      ]
    },
    {
      "cell_type": "markdown",
      "metadata": {
        "id": "kk3Sch5STsWw",
        "colab_type": "text"
      },
      "source": [
        "Preprocess input data for keras \n",
        "RGB images have a depth of 3 . minst images have a depth of 1 .\n",
        "explictly mentioning to process the data and to transform  dataset from having shape (n, width, height) to (n, depth, width, height). "
      ]
    },
    {
      "cell_type": "code",
      "metadata": {
        "id": "erb11jNwwFwl",
        "colab_type": "code",
        "colab": {}
      },
      "source": [
        "X_train = X_train.reshape(X_train.shape[0], 28, 28,1)\n",
        "X_test = X_test.reshape(X_test.shape[0], 28, 28,1)"
      ],
      "execution_count": 0,
      "outputs": []
    },
    {
      "cell_type": "markdown",
      "metadata": {
        "id": "aR8-UfqHUQ_M",
        "colab_type": "text"
      },
      "source": [
        "convert our data type to float32 and normalize our data values to the range [0, 1]."
      ]
    },
    {
      "cell_type": "code",
      "metadata": {
        "id": "RLK4YDoRwHet",
        "colab_type": "code",
        "colab": {}
      },
      "source": [
        "X_train = X_train.astype('float32')\n",
        "X_test = X_test.astype('float32')\n",
        "X_train /= 255\n",
        "X_test /= 255"
      ],
      "execution_count": 0,
      "outputs": []
    },
    {
      "cell_type": "markdown",
      "metadata": {
        "id": "E096Wdb_VA6t",
        "colab_type": "text"
      },
      "source": [
        "The 10 different classes are represented as a single 1-dimensional array "
      ]
    },
    {
      "cell_type": "code",
      "metadata": {
        "id": "JNKLOmhlwJQl",
        "colab_type": "code",
        "outputId": "0431008b-bad9-4eef-cafa-7e8a72e426d3",
        "colab": {
          "base_uri": "https://localhost:8080/",
          "height": 34
        }
      },
      "source": [
        "y_train[:10]"
      ],
      "execution_count": 9,
      "outputs": [
        {
          "output_type": "execute_result",
          "data": {
            "text/plain": [
              "array([5, 0, 4, 1, 9, 2, 1, 3, 1, 4], dtype=uint8)"
            ]
          },
          "metadata": {
            "tags": []
          },
          "execution_count": 9
        }
      ]
    },
    {
      "cell_type": "markdown",
      "metadata": {
        "id": "R0ochgkiVQWv",
        "colab_type": "text"
      },
      "source": [
        "The y_train and y_test data are split into 10 distinct class labels"
      ]
    },
    {
      "cell_type": "code",
      "metadata": {
        "id": "YusMJguiwKsM",
        "colab_type": "code",
        "colab": {}
      },
      "source": [
        "# Convert 1-dimensional class arrays to 10-dimensional class matrices\n",
        "Y_train = np_utils.to_categorical(y_train, 10)\n",
        "Y_test = np_utils.to_categorical(y_test, 10)"
      ],
      "execution_count": 0,
      "outputs": []
    },
    {
      "cell_type": "code",
      "metadata": {
        "id": "upxc99AswMW0",
        "colab_type": "code",
        "outputId": "1374840f-3a59-4c25-8281-e87b33193810",
        "colab": {
          "base_uri": "https://localhost:8080/",
          "height": 187
        }
      },
      "source": [
        "Y_train[:10]\n"
      ],
      "execution_count": 11,
      "outputs": [
        {
          "output_type": "execute_result",
          "data": {
            "text/plain": [
              "array([[0., 0., 0., 0., 0., 1., 0., 0., 0., 0.],\n",
              "       [1., 0., 0., 0., 0., 0., 0., 0., 0., 0.],\n",
              "       [0., 0., 0., 0., 1., 0., 0., 0., 0., 0.],\n",
              "       [0., 1., 0., 0., 0., 0., 0., 0., 0., 0.],\n",
              "       [0., 0., 0., 0., 0., 0., 0., 0., 0., 1.],\n",
              "       [0., 0., 1., 0., 0., 0., 0., 0., 0., 0.],\n",
              "       [0., 1., 0., 0., 0., 0., 0., 0., 0., 0.],\n",
              "       [0., 0., 0., 1., 0., 0., 0., 0., 0., 0.],\n",
              "       [0., 1., 0., 0., 0., 0., 0., 0., 0., 0.],\n",
              "       [0., 0., 0., 0., 1., 0., 0., 0., 0., 0.]], dtype=float32)"
            ]
          },
          "metadata": {
            "tags": []
          },
          "execution_count": 11
        }
      ]
    },
    {
      "cell_type": "markdown",
      "metadata": {
        "id": "esZeT8tcVjK5",
        "colab_type": "text"
      },
      "source": [
        ""
      ]
    },
    {
      "cell_type": "markdown",
      "metadata": {
        "id": "HoWZeewuv_kP",
        "colab_type": "text"
      },
      "source": [
        ""
      ]
    },
    {
      "cell_type": "markdown",
      "metadata": {
        "id": "ZPMVOcCouGVv",
        "colab_type": "text"
      },
      "source": [
        "model.add(Convolution2D(32, 3, 3, activation='relu', input_shape=(28,28,1)))\n",
        "The input shape parameter should be the shape of 1 sample corresponding to  the (depth, width, height) of each digit image \n",
        "here it is 28*28\n",
        "\n",
        "The first 3 params(32, 3, 3) represent \n",
        "\tthe no of filters = 32\n",
        "\tthe size of the kernel(no of rows and no of col) =3, 3\n",
        "\tstep size is (1,1) by default.\n",
        "\t\n",
        "After this add more layers to the module\n",
        "MaxPooling2D = to reduce the number of parameters in our model by sliding a 2x2 pooling filter across the previous layer \n",
        "and taking the max of the 4 values in the 2x2 filter \n",
        "Flatten = flattened convolution layers to  1-dimensional\n",
        "\n",
        "Receptive field is added inline"
      ]
    },
    {
      "cell_type": "code",
      "metadata": {
        "id": "irTVUE47wNwr",
        "colab_type": "code",
        "outputId": "87ee57b6-a80c-4922-c403-e854087c8b3f",
        "colab": {
          "base_uri": "https://localhost:8080/",
          "height": 788
        }
      },
      "source": [
        "from keras.layers import Activation, MaxPooling2D\n",
        "\n",
        "model = Sequential() \n",
        "model.add(Convolution2D(32, 3, 3, activation='relu', input_shape=(28,28,1)))\n",
        "#26*26 *32 *64\n",
        "model.add(Convolution2D(64, 3, 3, activation='relu'))\n",
        "#24*24 *64 *128\n",
        "model.add(Convolution2D(128, 3, 3, activation='relu'))\n",
        "#11 * 11 * 128\n",
        "model.add(MaxPooling2D(pool_size=(2, 2)))\n",
        "#9*9*128\n",
        "model.add(Convolution2D(256, 3, 3, activation='relu'))\n",
        "#7*7*128 * 512\n",
        "model.add(Convolution2D(512, 3, 3, activation='relu'))\n",
        "#5*5*512 * 1024\n",
        "model.add(Convolution2D(1024, 3, 3, activation='relu'))\n",
        "#3*3*1024 * 2048\n",
        "model.add(Convolution2D(2048, 3, 3, activation='relu'))\n",
        "#1*1*2048 * 10\n",
        "model.add(Convolution2D(10, 3, 3))\n",
        "\n",
        "model.add(Flatten())\n",
        "model.add(Activation('softmax'))\n",
        "\n",
        "model.summary()"
      ],
      "execution_count": 13,
      "outputs": [
        {
          "output_type": "stream",
          "text": [
            "_________________________________________________________________\n",
            "Layer (type)                 Output Shape              Param #   \n",
            "=================================================================\n",
            "conv2d_9 (Conv2D)            (None, 26, 26, 32)        320       \n",
            "_________________________________________________________________\n",
            "conv2d_10 (Conv2D)           (None, 24, 24, 64)        18496     \n",
            "_________________________________________________________________\n",
            "conv2d_11 (Conv2D)           (None, 22, 22, 128)       73856     \n",
            "_________________________________________________________________\n",
            "max_pooling2d_2 (MaxPooling2 (None, 11, 11, 128)       0         \n",
            "_________________________________________________________________\n",
            "conv2d_12 (Conv2D)           (None, 9, 9, 256)         295168    \n",
            "_________________________________________________________________\n",
            "conv2d_13 (Conv2D)           (None, 7, 7, 512)         1180160   \n",
            "_________________________________________________________________\n",
            "conv2d_14 (Conv2D)           (None, 5, 5, 1024)        4719616   \n",
            "_________________________________________________________________\n",
            "conv2d_15 (Conv2D)           (None, 3, 3, 2048)        18876416  \n",
            "_________________________________________________________________\n",
            "conv2d_16 (Conv2D)           (None, 1, 1, 10)          184330    \n",
            "_________________________________________________________________\n",
            "flatten_2 (Flatten)          (None, 10)                0         \n",
            "_________________________________________________________________\n",
            "activation_2 (Activation)    (None, 10)                0         \n",
            "=================================================================\n",
            "Total params: 25,348,362\n",
            "Trainable params: 25,348,362\n",
            "Non-trainable params: 0\n",
            "_________________________________________________________________\n"
          ],
          "name": "stdout"
        },
        {
          "output_type": "stream",
          "text": [
            "/usr/local/lib/python3.6/dist-packages/ipykernel_launcher.py:4: UserWarning: Update your `Conv2D` call to the Keras 2 API: `Conv2D(32, (3, 3), activation=\"relu\", input_shape=(28, 28, 1...)`\n",
            "  after removing the cwd from sys.path.\n",
            "/usr/local/lib/python3.6/dist-packages/ipykernel_launcher.py:6: UserWarning: Update your `Conv2D` call to the Keras 2 API: `Conv2D(64, (3, 3), activation=\"relu\")`\n",
            "  \n",
            "/usr/local/lib/python3.6/dist-packages/ipykernel_launcher.py:8: UserWarning: Update your `Conv2D` call to the Keras 2 API: `Conv2D(128, (3, 3), activation=\"relu\")`\n",
            "  \n",
            "/usr/local/lib/python3.6/dist-packages/ipykernel_launcher.py:12: UserWarning: Update your `Conv2D` call to the Keras 2 API: `Conv2D(256, (3, 3), activation=\"relu\")`\n",
            "  if sys.path[0] == '':\n",
            "/usr/local/lib/python3.6/dist-packages/ipykernel_launcher.py:14: UserWarning: Update your `Conv2D` call to the Keras 2 API: `Conv2D(512, (3, 3), activation=\"relu\")`\n",
            "  \n",
            "/usr/local/lib/python3.6/dist-packages/ipykernel_launcher.py:16: UserWarning: Update your `Conv2D` call to the Keras 2 API: `Conv2D(1024, (3, 3), activation=\"relu\")`\n",
            "  app.launch_new_instance()\n",
            "/usr/local/lib/python3.6/dist-packages/ipykernel_launcher.py:18: UserWarning: Update your `Conv2D` call to the Keras 2 API: `Conv2D(2048, (3, 3), activation=\"relu\")`\n",
            "/usr/local/lib/python3.6/dist-packages/ipykernel_launcher.py:20: UserWarning: Update your `Conv2D` call to the Keras 2 API: `Conv2D(10, (3, 3))`\n"
          ],
          "name": "stderr"
        }
      ]
    },
    {
      "cell_type": "markdown",
      "metadata": {
        "id": "9ZBl5yPhuM-9",
        "colab_type": "text"
      },
      "source": [
        "compile and run the model with loss function categorical_crossentropy and optimizer = adam"
      ]
    },
    {
      "cell_type": "code",
      "metadata": {
        "id": "VYZOpRb6yG7_",
        "colab_type": "code",
        "colab": {}
      },
      "source": [
        "model.compile(loss='categorical_crossentropy',\n",
        "             optimizer='adam',\n",
        "             metrics=['accuracy'])"
      ],
      "execution_count": 0,
      "outputs": []
    },
    {
      "cell_type": "markdown",
      "metadata": {
        "id": "SKvBzN2UuiPd",
        "colab_type": "text"
      },
      "source": [
        "Fit the training data by adding the batch size ( create 32 batches with each batch having one feature each)\n",
        "and run it for 10 epochs(iterations of back forth of entire data set)"
      ]
    },
    {
      "cell_type": "code",
      "metadata": {
        "id": "5O248wVQyMft",
        "colab_type": "code",
        "outputId": "8c29be30-1df8-4f2d-d1a6-f2bc23874ab1",
        "colab": {
          "base_uri": "https://localhost:8080/",
          "height": 1020
        }
      },
      "source": [
        "model.fit(X_train, Y_train, batch_size=32, nb_epoch=10, verbose=1)"
      ],
      "execution_count": 15,
      "outputs": [
        {
          "output_type": "stream",
          "text": [
            "WARNING:tensorflow:From /usr/local/lib/python3.6/dist-packages/tensorflow/python/ops/math_ops.py:3066: to_int32 (from tensorflow.python.ops.math_ops) is deprecated and will be removed in a future version.\n",
            "Instructions for updating:\n",
            "Use tf.cast instead.\n"
          ],
          "name": "stdout"
        },
        {
          "output_type": "stream",
          "text": [
            "/usr/local/lib/python3.6/dist-packages/ipykernel_launcher.py:1: UserWarning: The `nb_epoch` argument in `fit` has been renamed `epochs`.\n",
            "  \"\"\"Entry point for launching an IPython kernel.\n"
          ],
          "name": "stderr"
        },
        {
          "output_type": "stream",
          "text": [
            "Epoch 1/10\n",
            "60000/60000 [==============================] - 222s 4ms/step - loss: 0.1533 - acc: 0.9517\n",
            "Epoch 2/10\n",
            "60000/60000 [==============================] - 216s 4ms/step - loss: 0.0575 - acc: 0.9838\n",
            "Epoch 3/10\n",
            "60000/60000 [==============================] - 216s 4ms/step - loss: 0.0436 - acc: 0.9874\n",
            "Epoch 4/10\n",
            "60000/60000 [==============================] - 216s 4ms/step - loss: 0.0335 - acc: 0.9903\n",
            "Epoch 5/10\n",
            "60000/60000 [==============================] - 216s 4ms/step - loss: 0.0315 - acc: 0.9910\n",
            "Epoch 6/10\n",
            "60000/60000 [==============================] - 216s 4ms/step - loss: 0.0247 - acc: 0.9930\n",
            "Epoch 7/10\n",
            "60000/60000 [==============================] - 216s 4ms/step - loss: 0.0203 - acc: 0.9940\n",
            "Epoch 8/10\n",
            "60000/60000 [==============================] - 216s 4ms/step - loss: 0.0209 - acc: 0.9938\n",
            "Epoch 9/10\n",
            "60000/60000 [==============================] - 216s 4ms/step - loss: 0.0181 - acc: 0.9952\n",
            "Epoch 10/10\n",
            "60000/60000 [==============================] - 216s 4ms/step - loss: 0.0186 - acc: 0.9953\n"
          ],
          "name": "stdout"
        },
        {
          "output_type": "execute_result",
          "data": {
            "text/plain": [
              "<keras.callbacks.History at 0x7faad2f40c18>"
            ]
          },
          "metadata": {
            "tags": []
          },
          "execution_count": 15
        }
      ]
    },
    {
      "cell_type": "markdown",
      "metadata": {
        "id": "NBaIWIKMvCNN",
        "colab_type": "text"
      },
      "source": [
        "Evaluate the model on the test data "
      ]
    },
    {
      "cell_type": "code",
      "metadata": {
        "id": "Sst4KneiyOL5",
        "colab_type": "code",
        "colab": {}
      },
      "source": [
        "score = model.evaluate(X_test, Y_test, verbose=0)"
      ],
      "execution_count": 0,
      "outputs": []
    },
    {
      "cell_type": "markdown",
      "metadata": {
        "id": "EQ2RZky2vg-n",
        "colab_type": "text"
      },
      "source": [
        "print the accuracy of prediction"
      ]
    },
    {
      "cell_type": "code",
      "metadata": {
        "id": "CfJiXOKsyj4y",
        "colab_type": "code",
        "outputId": "a0e6dada-2301-4075-c257-2afaf25f0148",
        "colab": {
          "base_uri": "https://localhost:8080/",
          "height": 34
        }
      },
      "source": [
        "print(score)"
      ],
      "execution_count": 17,
      "outputs": [
        {
          "output_type": "stream",
          "text": [
            "[0.037161055194754135, 0.9909]\n"
          ],
          "name": "stdout"
        }
      ]
    },
    {
      "cell_type": "code",
      "metadata": {
        "id": "hwLSXt7nyn_0",
        "colab_type": "code",
        "colab": {}
      },
      "source": [
        "y_pred = model.predict(X_test)"
      ],
      "execution_count": 0,
      "outputs": []
    },
    {
      "cell_type": "code",
      "metadata": {
        "id": "WWKKoOKwyppN",
        "colab_type": "code",
        "outputId": "7dc8c4a0-bbad-49cc-fe52-3f9fa2dfbb3b",
        "colab": {
          "base_uri": "https://localhost:8080/",
          "height": 340
        }
      },
      "source": [
        "print(y_pred[:9])\n",
        "print(y_test[:9])"
      ],
      "execution_count": 19,
      "outputs": [
        {
          "output_type": "stream",
          "text": [
            "[[1.0678010e-15 2.4273165e-17 2.2192521e-12 1.0564976e-13 3.0823614e-19\n",
            "  5.4906011e-14 4.6121691e-22 1.0000000e+00 4.1741416e-16 4.4882267e-14]\n",
            " [5.8488095e-17 8.5458624e-14 1.0000000e+00 8.7380693e-17 2.5863501e-17\n",
            "  9.7539151e-21 4.0372022e-18 5.3718133e-19 1.9193254e-15 4.1795421e-24]\n",
            " [9.3215846e-10 9.9999213e-01 4.7628756e-08 1.7100713e-11 4.7173403e-06\n",
            "  4.8468041e-07 2.9320049e-09 1.3468880e-06 1.3550202e-06 1.4894996e-09]\n",
            " [9.9999738e-01 1.1190211e-12 1.8150544e-09 3.5256686e-11 3.1707170e-09\n",
            "  2.0544992e-09 2.6300854e-06 3.0684757e-11 3.6500179e-08 1.2442791e-08]\n",
            " [1.8478637e-20 6.3502325e-23 4.9694939e-21 3.0068610e-19 1.0000000e+00\n",
            "  1.1362003e-22 6.8750151e-24 8.4680429e-22 3.6684226e-17 8.0445286e-21]\n",
            " [7.5735432e-11 9.9999702e-01 2.5066623e-07 2.0984482e-12 1.2769655e-06\n",
            "  2.9827394e-09 1.3375910e-10 7.0303025e-07 7.2158866e-07 2.6183167e-10]\n",
            " [2.3128736e-14 3.5001977e-12 6.3464130e-11 5.7426720e-13 9.9999881e-01\n",
            "  1.5032320e-09 3.2716985e-11 5.6331947e-07 6.0530590e-07 6.8316797e-11]\n",
            " [1.7312530e-11 1.3012926e-17 1.8945986e-16 3.0665731e-13 1.3432824e-08\n",
            "  4.3396473e-10 8.2548917e-14 1.2237361e-14 5.7167732e-11 1.0000000e+00]\n",
            " [1.2783873e-11 1.6716238e-11 4.1463777e-11 7.1714350e-11 1.1982195e-12\n",
            "  9.6683985e-01 3.3160146e-02 4.3034992e-11 4.7823182e-08 1.0318576e-10]]\n",
            "[7 2 1 0 4 1 4 9 5]\n"
          ],
          "name": "stdout"
        }
      ]
    },
    {
      "cell_type": "markdown",
      "metadata": {
        "id": "i37M4MGxawND",
        "colab_type": "text"
      },
      "source": [
        ""
      ]
    },
    {
      "cell_type": "markdown",
      "metadata": {
        "id": "bsw_T7mCy75u",
        "colab_type": "text"
      },
      "source": [
        "Issues with the model\n",
        "\n",
        "\n",
        "1 . Will need to add a dropput of model.add(Dropout(0.5)) to remove noise and overfitting the data \n",
        "2 . Remove RELU from last layer\n"
      ]
    }
  ]
}